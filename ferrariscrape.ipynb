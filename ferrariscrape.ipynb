{
  "nbformat": 4,
  "nbformat_minor": 0,
  "metadata": {
    "colab": {
      "name": "ferrariscrape.ipynb",
      "provenance": [],
      "collapsed_sections": [],
      "authorship_tag": "ABX9TyN99m4X2Q1Kx0JFu/JvJpbI",
      "include_colab_link": true
    },
    "kernelspec": {
      "name": "python3",
      "display_name": "Python 3"
    }
  },
  "cells": [
    {
      "cell_type": "markdown",
      "metadata": {
        "id": "view-in-github",
        "colab_type": "text"
      },
      "source": [
        "<a href=\"https://colab.research.google.com/github/sandrofab/esercizi/blob/master/ferrariscrape.ipynb\" target=\"_parent\"><img src=\"https://colab.research.google.com/assets/colab-badge.svg\" alt=\"Open In Colab\"/></a>"
      ]
    },
    {
      "cell_type": "markdown",
      "metadata": {
        "id": "F7mgMFZ24uGv",
        "colab_type": "text"
      },
      "source": [
        "# Scraping code for Ferrari listings on Subito.it"
      ]
    },
    {
      "cell_type": "code",
      "metadata": {
        "id": "gnjXZwId41gw",
        "colab_type": "code",
        "colab": {}
      },
      "source": [
        "# import required libraries for web scrapping\n",
        "%mkdir listings -p\n",
        "import requests\n",
        "from bs4 import BeautifulSoup\n",
        "\n",
        "import pandas as pd\n",
        "import time\n",
        "import html\n",
        "from lxml import html"
      ],
      "execution_count": 0,
      "outputs": []
    },
    {
      "cell_type": "code",
      "metadata": {
        "id": "khuD3-rz48Ac",
        "colab_type": "code",
        "colab": {}
      },
      "source": [
        "#saving pages to a directory\n",
        "url_root = 'https://www.subito.it/annunci-italia/vendita/auto/?q=ferrari&qso=true&o='\n",
        "\n",
        "for i in range(1,11):\n",
        "  cur_url = url_root + str(i)\n",
        "  cur_content = requests.get(cur_url)\n",
        "  res_text = BeautifulSoup(cur_content.text, \"lxml\" )\n",
        "  html_file = open('listings/ferrari_html' + str(i) + '.html', 'w')\n",
        "  html_file.write(str(res_text))\n",
        "  html_file.close()\n",
        "  time.sleep(3)\n",
        "\n"
      ],
      "execution_count": 0,
      "outputs": []
    }
  ]
}